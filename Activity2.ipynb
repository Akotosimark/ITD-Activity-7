{
 "cells": [
  {
   "cell_type": "markdown",
   "id": "99029f4d-5734-4bc7-89b4-6ea8e8497188",
   "metadata": {},
   "source": [
    "<h1>TESTING PYTHON CODE</h1>"
   ]
  },
  {
   "cell_type": "code",
   "execution_count": 1,
   "id": "61f22f37-266e-46c3-bd16-37bb626a22e2",
   "metadata": {},
   "outputs": [
    {
     "name": "stdout",
     "output_type": "stream",
     "text": [
      "Hello World\n"
     ]
    }
   ],
   "source": [
    "print('Hello World')"
   ]
  },
  {
   "cell_type": "markdown",
   "id": "baa87c2e-962d-4997-9f0a-6acee63a2c57",
   "metadata": {},
   "source": [
    "<h1>DOWNLOADING NECESSARY LIBRARIES</h1>"
   ]
  },
  {
   "cell_type": "code",
   "execution_count": 2,
   "id": "ba1f2244-0c03-4abe-8cf2-2d6afba3abee",
   "metadata": {},
   "outputs": [
    {
     "name": "stdout",
     "output_type": "stream",
     "text": [
      "Requirement already satisfied: numpy in c:\\users\\lab4-studentpc31\\appdata\\local\\programs\\python\\python313\\lib\\site-packages (2.2.2)\n",
      "Note: you may need to restart the kernel to use updated packages.\n"
     ]
    },
    {
     "name": "stderr",
     "output_type": "stream",
     "text": [
      "\n",
      "[notice] A new release of pip is available: 24.3.1 -> 25.0.1\n",
      "[notice] To update, run: python.exe -m pip install --upgrade pip\n"
     ]
    }
   ],
   "source": [
    "pip install numpy"
   ]
  },
  {
   "cell_type": "code",
   "execution_count": 3,
   "id": "4c060bbd-32df-4dcb-9fce-d2bffb89b8db",
   "metadata": {},
   "outputs": [
    {
     "name": "stdout",
     "output_type": "stream",
     "text": [
      "Requirement already satisfied: pandas in c:\\users\\lab4-studentpc31\\appdata\\local\\programs\\python\\python313\\lib\\site-packages (2.2.3)\n",
      "Requirement already satisfied: numpy>=1.26.0 in c:\\users\\lab4-studentpc31\\appdata\\local\\programs\\python\\python313\\lib\\site-packages (from pandas) (2.2.2)\n",
      "Requirement already satisfied: python-dateutil>=2.8.2 in c:\\users\\lab4-studentpc31\\appdata\\local\\programs\\python\\python313\\lib\\site-packages (from pandas) (2.9.0.post0)\n",
      "Requirement already satisfied: pytz>=2020.1 in c:\\users\\lab4-studentpc31\\appdata\\local\\programs\\python\\python313\\lib\\site-packages (from pandas) (2024.2)\n",
      "Requirement already satisfied: tzdata>=2022.7 in c:\\users\\lab4-studentpc31\\appdata\\local\\programs\\python\\python313\\lib\\site-packages (from pandas) (2024.2)\n",
      "Requirement already satisfied: six>=1.5 in c:\\users\\lab4-studentpc31\\appdata\\local\\programs\\python\\python313\\lib\\site-packages (from python-dateutil>=2.8.2->pandas) (1.17.0)\n",
      "Note: you may need to restart the kernel to use updated packages.\n"
     ]
    },
    {
     "name": "stderr",
     "output_type": "stream",
     "text": [
      "\n",
      "[notice] A new release of pip is available: 24.3.1 -> 25.0.1\n",
      "[notice] To update, run: python.exe -m pip install --upgrade pip\n"
     ]
    }
   ],
   "source": [
    "pip install pandas"
   ]
  },
  {
   "cell_type": "code",
   "execution_count": 4,
   "id": "cb21f8cd-628d-4269-822e-3f1f703ebebd",
   "metadata": {},
   "outputs": [
    {
     "name": "stdout",
     "output_type": "stream",
     "text": [
      "Requirement already satisfied: matplotlib in c:\\users\\lab4-studentpc31\\appdata\\local\\programs\\python\\python313\\lib\\site-packages (3.10.0)\n",
      "Requirement already satisfied: contourpy>=1.0.1 in c:\\users\\lab4-studentpc31\\appdata\\local\\programs\\python\\python313\\lib\\site-packages (from matplotlib) (1.3.1)\n",
      "Requirement already satisfied: cycler>=0.10 in c:\\users\\lab4-studentpc31\\appdata\\local\\programs\\python\\python313\\lib\\site-packages (from matplotlib) (0.12.1)\n",
      "Requirement already satisfied: fonttools>=4.22.0 in c:\\users\\lab4-studentpc31\\appdata\\local\\programs\\python\\python313\\lib\\site-packages (from matplotlib) (4.55.3)\n",
      "Requirement already satisfied: kiwisolver>=1.3.1 in c:\\users\\lab4-studentpc31\\appdata\\local\\programs\\python\\python313\\lib\\site-packages (from matplotlib) (1.4.8)\n",
      "Requirement already satisfied: numpy>=1.23 in c:\\users\\lab4-studentpc31\\appdata\\local\\programs\\python\\python313\\lib\\site-packages (from matplotlib) (2.2.2)\n",
      "Requirement already satisfied: packaging>=20.0 in c:\\users\\lab4-studentpc31\\appdata\\local\\programs\\python\\python313\\lib\\site-packages (from matplotlib) (24.2)\n",
      "Requirement already satisfied: pillow>=8 in c:\\users\\lab4-studentpc31\\appdata\\local\\programs\\python\\python313\\lib\\site-packages (from matplotlib) (11.1.0)\n",
      "Requirement already satisfied: pyparsing>=2.3.1 in c:\\users\\lab4-studentpc31\\appdata\\local\\programs\\python\\python313\\lib\\site-packages (from matplotlib) (3.2.1)\n",
      "Requirement already satisfied: python-dateutil>=2.7 in c:\\users\\lab4-studentpc31\\appdata\\local\\programs\\python\\python313\\lib\\site-packages (from matplotlib) (2.9.0.post0)\n",
      "Requirement already satisfied: six>=1.5 in c:\\users\\lab4-studentpc31\\appdata\\local\\programs\\python\\python313\\lib\\site-packages (from python-dateutil>=2.7->matplotlib) (1.17.0)\n",
      "Note: you may need to restart the kernel to use updated packages.\n"
     ]
    },
    {
     "name": "stderr",
     "output_type": "stream",
     "text": [
      "\n",
      "[notice] A new release of pip is available: 24.3.1 -> 25.0.1\n",
      "[notice] To update, run: python.exe -m pip install --upgrade pip\n"
     ]
    }
   ],
   "source": [
    "pip install matplotlib"
   ]
  },
  {
   "cell_type": "code",
   "execution_count": 5,
   "id": "1b019c78-f674-4fbe-a344-c5de2638926f",
   "metadata": {},
   "outputs": [
    {
     "name": "stdout",
     "output_type": "stream",
     "text": [
      "Requirement already satisfied: seaborn in c:\\users\\lab4-studentpc31\\appdata\\local\\programs\\python\\python313\\lib\\site-packages (0.13.2)\n",
      "Requirement already satisfied: numpy!=1.24.0,>=1.20 in c:\\users\\lab4-studentpc31\\appdata\\local\\programs\\python\\python313\\lib\\site-packages (from seaborn) (2.2.2)\n",
      "Requirement already satisfied: pandas>=1.2 in c:\\users\\lab4-studentpc31\\appdata\\local\\programs\\python\\python313\\lib\\site-packages (from seaborn) (2.2.3)\n",
      "Requirement already satisfied: matplotlib!=3.6.1,>=3.4 in c:\\users\\lab4-studentpc31\\appdata\\local\\programs\\python\\python313\\lib\\site-packages (from seaborn) (3.10.0)\n",
      "Requirement already satisfied: contourpy>=1.0.1 in c:\\users\\lab4-studentpc31\\appdata\\local\\programs\\python\\python313\\lib\\site-packages (from matplotlib!=3.6.1,>=3.4->seaborn) (1.3.1)\n",
      "Requirement already satisfied: cycler>=0.10 in c:\\users\\lab4-studentpc31\\appdata\\local\\programs\\python\\python313\\lib\\site-packages (from matplotlib!=3.6.1,>=3.4->seaborn) (0.12.1)\n",
      "Requirement already satisfied: fonttools>=4.22.0 in c:\\users\\lab4-studentpc31\\appdata\\local\\programs\\python\\python313\\lib\\site-packages (from matplotlib!=3.6.1,>=3.4->seaborn) (4.55.3)\n",
      "Requirement already satisfied: kiwisolver>=1.3.1 in c:\\users\\lab4-studentpc31\\appdata\\local\\programs\\python\\python313\\lib\\site-packages (from matplotlib!=3.6.1,>=3.4->seaborn) (1.4.8)\n",
      "Requirement already satisfied: packaging>=20.0 in c:\\users\\lab4-studentpc31\\appdata\\local\\programs\\python\\python313\\lib\\site-packages (from matplotlib!=3.6.1,>=3.4->seaborn) (24.2)\n",
      "Requirement already satisfied: pillow>=8 in c:\\users\\lab4-studentpc31\\appdata\\local\\programs\\python\\python313\\lib\\site-packages (from matplotlib!=3.6.1,>=3.4->seaborn) (11.1.0)\n",
      "Requirement already satisfied: pyparsing>=2.3.1 in c:\\users\\lab4-studentpc31\\appdata\\local\\programs\\python\\python313\\lib\\site-packages (from matplotlib!=3.6.1,>=3.4->seaborn) (3.2.1)\n",
      "Requirement already satisfied: python-dateutil>=2.7 in c:\\users\\lab4-studentpc31\\appdata\\local\\programs\\python\\python313\\lib\\site-packages (from matplotlib!=3.6.1,>=3.4->seaborn) (2.9.0.post0)\n",
      "Requirement already satisfied: pytz>=2020.1 in c:\\users\\lab4-studentpc31\\appdata\\local\\programs\\python\\python313\\lib\\site-packages (from pandas>=1.2->seaborn) (2024.2)\n",
      "Requirement already satisfied: tzdata>=2022.7 in c:\\users\\lab4-studentpc31\\appdata\\local\\programs\\python\\python313\\lib\\site-packages (from pandas>=1.2->seaborn) (2024.2)\n",
      "Requirement already satisfied: six>=1.5 in c:\\users\\lab4-studentpc31\\appdata\\local\\programs\\python\\python313\\lib\\site-packages (from python-dateutil>=2.7->matplotlib!=3.6.1,>=3.4->seaborn) (1.17.0)\n",
      "Note: you may need to restart the kernel to use updated packages.\n"
     ]
    },
    {
     "name": "stderr",
     "output_type": "stream",
     "text": [
      "\n",
      "[notice] A new release of pip is available: 24.3.1 -> 25.0.1\n",
      "[notice] To update, run: python.exe -m pip install --upgrade pip\n"
     ]
    }
   ],
   "source": [
    "pip install seaborn"
   ]
  },
  {
   "cell_type": "markdown",
   "id": "d7336dd1-c305-46d1-9ff6-4f6ae43a32c8",
   "metadata": {},
   "source": [
    "<h1>IMPORTING LIBRARIES</h1>"
   ]
  },
  {
   "cell_type": "code",
   "execution_count": 6,
   "id": "5c2d75f8-d7b6-4de5-a168-5d10d3eb06bf",
   "metadata": {},
   "outputs": [],
   "source": [
    "import numpy as np\n",
    "import pandas as pd\n",
    "import matplotlib.pyplot as plt\n",
    "import seaborn as sns"
   ]
  },
  {
   "cell_type": "markdown",
   "id": "af7f428b-e18c-4fec-8666-5b9b19bdb3b4",
   "metadata": {},
   "source": [
    "<h1> IMPORTING DATASET TO DATA FRAME</h1>"
   ]
  },
  {
   "cell_type": "code",
   "execution_count": 7,
   "id": "eb0c0dbc-b404-48aa-ba87-e8d987eaf8eb",
   "metadata": {},
   "outputs": [],
   "source": [
    "#variable _ name / name"
   ]
  },
  {
   "cell_type": "code",
   "execution_count": 8,
   "id": "16f845c8-e8f1-46b6-92fa-ad1efacd9db6",
   "metadata": {},
   "outputs": [],
   "source": [
    "birds = pd.read_csv('datasets\\\\penguins.csv')"
   ]
  },
  {
   "cell_type": "code",
   "execution_count": 9,
   "id": "1cc4a8a1-c76b-49b5-b0dd-3cc770d3c44b",
   "metadata": {},
   "outputs": [
    {
     "data": {
      "text/html": [
       "<div>\n",
       "<style scoped>\n",
       "    .dataframe tbody tr th:only-of-type {\n",
       "        vertical-align: middle;\n",
       "    }\n",
       "\n",
       "    .dataframe tbody tr th {\n",
       "        vertical-align: top;\n",
       "    }\n",
       "\n",
       "    .dataframe thead th {\n",
       "        text-align: right;\n",
       "    }\n",
       "</style>\n",
       "<table border=\"1\" class=\"dataframe\">\n",
       "  <thead>\n",
       "    <tr style=\"text-align: right;\">\n",
       "      <th></th>\n",
       "      <th>rowid</th>\n",
       "      <th>species</th>\n",
       "      <th>island</th>\n",
       "      <th>bill_length_mm</th>\n",
       "      <th>bill_depth_mm</th>\n",
       "      <th>flipper_length_mm</th>\n",
       "      <th>body_mass_g</th>\n",
       "      <th>sex</th>\n",
       "      <th>year</th>\n",
       "    </tr>\n",
       "  </thead>\n",
       "  <tbody>\n",
       "    <tr>\n",
       "      <th>0</th>\n",
       "      <td>1</td>\n",
       "      <td>Adelie</td>\n",
       "      <td>Torgersen</td>\n",
       "      <td>39.1</td>\n",
       "      <td>18.7</td>\n",
       "      <td>181.0</td>\n",
       "      <td>3750.0</td>\n",
       "      <td>male</td>\n",
       "      <td>2007</td>\n",
       "    </tr>\n",
       "    <tr>\n",
       "      <th>1</th>\n",
       "      <td>2</td>\n",
       "      <td>Adelie</td>\n",
       "      <td>Torgersen</td>\n",
       "      <td>39.5</td>\n",
       "      <td>17.4</td>\n",
       "      <td>186.0</td>\n",
       "      <td>3800.0</td>\n",
       "      <td>female</td>\n",
       "      <td>2007</td>\n",
       "    </tr>\n",
       "    <tr>\n",
       "      <th>2</th>\n",
       "      <td>3</td>\n",
       "      <td>Adelie</td>\n",
       "      <td>Torgersen</td>\n",
       "      <td>40.3</td>\n",
       "      <td>18.0</td>\n",
       "      <td>195.0</td>\n",
       "      <td>3250.0</td>\n",
       "      <td>female</td>\n",
       "      <td>2007</td>\n",
       "    </tr>\n",
       "    <tr>\n",
       "      <th>3</th>\n",
       "      <td>4</td>\n",
       "      <td>Adelie</td>\n",
       "      <td>Torgersen</td>\n",
       "      <td>NaN</td>\n",
       "      <td>NaN</td>\n",
       "      <td>NaN</td>\n",
       "      <td>NaN</td>\n",
       "      <td>NaN</td>\n",
       "      <td>2007</td>\n",
       "    </tr>\n",
       "    <tr>\n",
       "      <th>4</th>\n",
       "      <td>5</td>\n",
       "      <td>Adelie</td>\n",
       "      <td>Torgersen</td>\n",
       "      <td>36.7</td>\n",
       "      <td>19.3</td>\n",
       "      <td>193.0</td>\n",
       "      <td>3450.0</td>\n",
       "      <td>female</td>\n",
       "      <td>2007</td>\n",
       "    </tr>\n",
       "    <tr>\n",
       "      <th>...</th>\n",
       "      <td>...</td>\n",
       "      <td>...</td>\n",
       "      <td>...</td>\n",
       "      <td>...</td>\n",
       "      <td>...</td>\n",
       "      <td>...</td>\n",
       "      <td>...</td>\n",
       "      <td>...</td>\n",
       "      <td>...</td>\n",
       "    </tr>\n",
       "    <tr>\n",
       "      <th>339</th>\n",
       "      <td>340</td>\n",
       "      <td>Chinstrap</td>\n",
       "      <td>Dream</td>\n",
       "      <td>55.8</td>\n",
       "      <td>19.8</td>\n",
       "      <td>207.0</td>\n",
       "      <td>4000.0</td>\n",
       "      <td>male</td>\n",
       "      <td>2009</td>\n",
       "    </tr>\n",
       "    <tr>\n",
       "      <th>340</th>\n",
       "      <td>341</td>\n",
       "      <td>Chinstrap</td>\n",
       "      <td>Dream</td>\n",
       "      <td>43.5</td>\n",
       "      <td>18.1</td>\n",
       "      <td>202.0</td>\n",
       "      <td>3400.0</td>\n",
       "      <td>female</td>\n",
       "      <td>2009</td>\n",
       "    </tr>\n",
       "    <tr>\n",
       "      <th>341</th>\n",
       "      <td>342</td>\n",
       "      <td>Chinstrap</td>\n",
       "      <td>Dream</td>\n",
       "      <td>49.6</td>\n",
       "      <td>18.2</td>\n",
       "      <td>193.0</td>\n",
       "      <td>3775.0</td>\n",
       "      <td>male</td>\n",
       "      <td>2009</td>\n",
       "    </tr>\n",
       "    <tr>\n",
       "      <th>342</th>\n",
       "      <td>343</td>\n",
       "      <td>Chinstrap</td>\n",
       "      <td>Dream</td>\n",
       "      <td>50.8</td>\n",
       "      <td>19.0</td>\n",
       "      <td>210.0</td>\n",
       "      <td>4100.0</td>\n",
       "      <td>male</td>\n",
       "      <td>2009</td>\n",
       "    </tr>\n",
       "    <tr>\n",
       "      <th>343</th>\n",
       "      <td>344</td>\n",
       "      <td>Chinstrap</td>\n",
       "      <td>Dream</td>\n",
       "      <td>50.2</td>\n",
       "      <td>18.7</td>\n",
       "      <td>198.0</td>\n",
       "      <td>3775.0</td>\n",
       "      <td>female</td>\n",
       "      <td>2009</td>\n",
       "    </tr>\n",
       "  </tbody>\n",
       "</table>\n",
       "<p>344 rows × 9 columns</p>\n",
       "</div>"
      ],
      "text/plain": [
       "     rowid    species     island  bill_length_mm  bill_depth_mm  \\\n",
       "0        1     Adelie  Torgersen            39.1           18.7   \n",
       "1        2     Adelie  Torgersen            39.5           17.4   \n",
       "2        3     Adelie  Torgersen            40.3           18.0   \n",
       "3        4     Adelie  Torgersen             NaN            NaN   \n",
       "4        5     Adelie  Torgersen            36.7           19.3   \n",
       "..     ...        ...        ...             ...            ...   \n",
       "339    340  Chinstrap      Dream            55.8           19.8   \n",
       "340    341  Chinstrap      Dream            43.5           18.1   \n",
       "341    342  Chinstrap      Dream            49.6           18.2   \n",
       "342    343  Chinstrap      Dream            50.8           19.0   \n",
       "343    344  Chinstrap      Dream            50.2           18.7   \n",
       "\n",
       "     flipper_length_mm  body_mass_g     sex  year  \n",
       "0                181.0       3750.0    male  2007  \n",
       "1                186.0       3800.0  female  2007  \n",
       "2                195.0       3250.0  female  2007  \n",
       "3                  NaN          NaN     NaN  2007  \n",
       "4                193.0       3450.0  female  2007  \n",
       "..                 ...          ...     ...   ...  \n",
       "339              207.0       4000.0    male  2009  \n",
       "340              202.0       3400.0  female  2009  \n",
       "341              193.0       3775.0    male  2009  \n",
       "342              210.0       4100.0    male  2009  \n",
       "343              198.0       3775.0  female  2009  \n",
       "\n",
       "[344 rows x 9 columns]"
      ]
     },
     "execution_count": 9,
     "metadata": {},
     "output_type": "execute_result"
    }
   ],
   "source": [
    "birds"
   ]
  },
  {
   "cell_type": "markdown",
   "id": "f20f00e2-eaab-41e7-a75e-866252bbb67c",
   "metadata": {},
   "source": [
    "<h1>Checking your DATA FRAME for null values, and data types</h1>"
   ]
  },
  {
   "cell_type": "code",
   "execution_count": 10,
   "id": "7cd10b06-50b2-4b06-a97e-9e3cb5f5a83c",
   "metadata": {},
   "outputs": [
    {
     "name": "stdout",
     "output_type": "stream",
     "text": [
      "<class 'pandas.core.frame.DataFrame'>\n",
      "RangeIndex: 344 entries, 0 to 343\n",
      "Data columns (total 9 columns):\n",
      " #   Column             Non-Null Count  Dtype  \n",
      "---  ------             --------------  -----  \n",
      " 0   rowid              344 non-null    int64  \n",
      " 1   species            344 non-null    object \n",
      " 2   island             344 non-null    object \n",
      " 3   bill_length_mm     342 non-null    float64\n",
      " 4   bill_depth_mm      342 non-null    float64\n",
      " 5   flipper_length_mm  342 non-null    float64\n",
      " 6   body_mass_g        342 non-null    float64\n",
      " 7   sex                333 non-null    object \n",
      " 8   year               344 non-null    int64  \n",
      "dtypes: float64(4), int64(2), object(3)\n",
      "memory usage: 24.3+ KB\n"
     ]
    }
   ],
   "source": [
    "birds.info()"
   ]
  },
  {
   "cell_type": "code",
   "execution_count": 11,
   "id": "15c299ea-a154-4335-83f7-8a826c0ec269",
   "metadata": {},
   "outputs": [
    {
     "data": {
      "text/html": [
       "<div>\n",
       "<style scoped>\n",
       "    .dataframe tbody tr th:only-of-type {\n",
       "        vertical-align: middle;\n",
       "    }\n",
       "\n",
       "    .dataframe tbody tr th {\n",
       "        vertical-align: top;\n",
       "    }\n",
       "\n",
       "    .dataframe thead th {\n",
       "        text-align: right;\n",
       "    }\n",
       "</style>\n",
       "<table border=\"1\" class=\"dataframe\">\n",
       "  <thead>\n",
       "    <tr style=\"text-align: right;\">\n",
       "      <th></th>\n",
       "      <th>rowid</th>\n",
       "      <th>species</th>\n",
       "      <th>island</th>\n",
       "      <th>bill_length_mm</th>\n",
       "      <th>bill_depth_mm</th>\n",
       "      <th>flipper_length_mm</th>\n",
       "      <th>body_mass_g</th>\n",
       "      <th>sex</th>\n",
       "      <th>year</th>\n",
       "    </tr>\n",
       "  </thead>\n",
       "  <tbody>\n",
       "    <tr>\n",
       "      <th>0</th>\n",
       "      <td>False</td>\n",
       "      <td>False</td>\n",
       "      <td>False</td>\n",
       "      <td>False</td>\n",
       "      <td>False</td>\n",
       "      <td>False</td>\n",
       "      <td>False</td>\n",
       "      <td>False</td>\n",
       "      <td>False</td>\n",
       "    </tr>\n",
       "    <tr>\n",
       "      <th>1</th>\n",
       "      <td>False</td>\n",
       "      <td>False</td>\n",
       "      <td>False</td>\n",
       "      <td>False</td>\n",
       "      <td>False</td>\n",
       "      <td>False</td>\n",
       "      <td>False</td>\n",
       "      <td>False</td>\n",
       "      <td>False</td>\n",
       "    </tr>\n",
       "    <tr>\n",
       "      <th>2</th>\n",
       "      <td>False</td>\n",
       "      <td>False</td>\n",
       "      <td>False</td>\n",
       "      <td>False</td>\n",
       "      <td>False</td>\n",
       "      <td>False</td>\n",
       "      <td>False</td>\n",
       "      <td>False</td>\n",
       "      <td>False</td>\n",
       "    </tr>\n",
       "    <tr>\n",
       "      <th>3</th>\n",
       "      <td>False</td>\n",
       "      <td>False</td>\n",
       "      <td>False</td>\n",
       "      <td>True</td>\n",
       "      <td>True</td>\n",
       "      <td>True</td>\n",
       "      <td>True</td>\n",
       "      <td>True</td>\n",
       "      <td>False</td>\n",
       "    </tr>\n",
       "    <tr>\n",
       "      <th>4</th>\n",
       "      <td>False</td>\n",
       "      <td>False</td>\n",
       "      <td>False</td>\n",
       "      <td>False</td>\n",
       "      <td>False</td>\n",
       "      <td>False</td>\n",
       "      <td>False</td>\n",
       "      <td>False</td>\n",
       "      <td>False</td>\n",
       "    </tr>\n",
       "    <tr>\n",
       "      <th>...</th>\n",
       "      <td>...</td>\n",
       "      <td>...</td>\n",
       "      <td>...</td>\n",
       "      <td>...</td>\n",
       "      <td>...</td>\n",
       "      <td>...</td>\n",
       "      <td>...</td>\n",
       "      <td>...</td>\n",
       "      <td>...</td>\n",
       "    </tr>\n",
       "    <tr>\n",
       "      <th>339</th>\n",
       "      <td>False</td>\n",
       "      <td>False</td>\n",
       "      <td>False</td>\n",
       "      <td>False</td>\n",
       "      <td>False</td>\n",
       "      <td>False</td>\n",
       "      <td>False</td>\n",
       "      <td>False</td>\n",
       "      <td>False</td>\n",
       "    </tr>\n",
       "    <tr>\n",
       "      <th>340</th>\n",
       "      <td>False</td>\n",
       "      <td>False</td>\n",
       "      <td>False</td>\n",
       "      <td>False</td>\n",
       "      <td>False</td>\n",
       "      <td>False</td>\n",
       "      <td>False</td>\n",
       "      <td>False</td>\n",
       "      <td>False</td>\n",
       "    </tr>\n",
       "    <tr>\n",
       "      <th>341</th>\n",
       "      <td>False</td>\n",
       "      <td>False</td>\n",
       "      <td>False</td>\n",
       "      <td>False</td>\n",
       "      <td>False</td>\n",
       "      <td>False</td>\n",
       "      <td>False</td>\n",
       "      <td>False</td>\n",
       "      <td>False</td>\n",
       "    </tr>\n",
       "    <tr>\n",
       "      <th>342</th>\n",
       "      <td>False</td>\n",
       "      <td>False</td>\n",
       "      <td>False</td>\n",
       "      <td>False</td>\n",
       "      <td>False</td>\n",
       "      <td>False</td>\n",
       "      <td>False</td>\n",
       "      <td>False</td>\n",
       "      <td>False</td>\n",
       "    </tr>\n",
       "    <tr>\n",
       "      <th>343</th>\n",
       "      <td>False</td>\n",
       "      <td>False</td>\n",
       "      <td>False</td>\n",
       "      <td>False</td>\n",
       "      <td>False</td>\n",
       "      <td>False</td>\n",
       "      <td>False</td>\n",
       "      <td>False</td>\n",
       "      <td>False</td>\n",
       "    </tr>\n",
       "  </tbody>\n",
       "</table>\n",
       "<p>344 rows × 9 columns</p>\n",
       "</div>"
      ],
      "text/plain": [
       "     rowid  species  island  bill_length_mm  bill_depth_mm  flipper_length_mm  \\\n",
       "0    False    False   False           False          False              False   \n",
       "1    False    False   False           False          False              False   \n",
       "2    False    False   False           False          False              False   \n",
       "3    False    False   False            True           True               True   \n",
       "4    False    False   False           False          False              False   \n",
       "..     ...      ...     ...             ...            ...                ...   \n",
       "339  False    False   False           False          False              False   \n",
       "340  False    False   False           False          False              False   \n",
       "341  False    False   False           False          False              False   \n",
       "342  False    False   False           False          False              False   \n",
       "343  False    False   False           False          False              False   \n",
       "\n",
       "     body_mass_g    sex   year  \n",
       "0          False  False  False  \n",
       "1          False  False  False  \n",
       "2          False  False  False  \n",
       "3           True   True  False  \n",
       "4          False  False  False  \n",
       "..           ...    ...    ...  \n",
       "339        False  False  False  \n",
       "340        False  False  False  \n",
       "341        False  False  False  \n",
       "342        False  False  False  \n",
       "343        False  False  False  \n",
       "\n",
       "[344 rows x 9 columns]"
      ]
     },
     "execution_count": 11,
     "metadata": {},
     "output_type": "execute_result"
    }
   ],
   "source": [
    "birds.isnull()"
   ]
  },
  {
   "cell_type": "code",
   "execution_count": 12,
   "id": "cb7172ca-603d-48e5-8277-f85e8c08ddad",
   "metadata": {},
   "outputs": [
    {
     "data": {
      "text/plain": [
       "rowid                 0\n",
       "species               0\n",
       "island                0\n",
       "bill_length_mm        2\n",
       "bill_depth_mm         2\n",
       "flipper_length_mm     2\n",
       "body_mass_g           2\n",
       "sex                  11\n",
       "year                  0\n",
       "dtype: int64"
      ]
     },
     "execution_count": 12,
     "metadata": {},
     "output_type": "execute_result"
    }
   ],
   "source": [
    "birds.isnull().sum()"
   ]
  },
  {
   "cell_type": "markdown",
   "id": "e027464a-0823-4c20-974a-1ec2553f948d",
   "metadata": {},
   "source": [
    "<h1>DESCRIPTIVE ANALYTICS</h1>"
   ]
  },
  {
   "cell_type": "code",
   "execution_count": 13,
   "id": "23994365-7615-4d37-ba24-620d1ccd654e",
   "metadata": {},
   "outputs": [
    {
     "data": {
      "text/html": [
       "<div>\n",
       "<style scoped>\n",
       "    .dataframe tbody tr th:only-of-type {\n",
       "        vertical-align: middle;\n",
       "    }\n",
       "\n",
       "    .dataframe tbody tr th {\n",
       "        vertical-align: top;\n",
       "    }\n",
       "\n",
       "    .dataframe thead th {\n",
       "        text-align: right;\n",
       "    }\n",
       "</style>\n",
       "<table border=\"1\" class=\"dataframe\">\n",
       "  <thead>\n",
       "    <tr style=\"text-align: right;\">\n",
       "      <th></th>\n",
       "      <th>rowid</th>\n",
       "      <th>bill_length_mm</th>\n",
       "      <th>bill_depth_mm</th>\n",
       "      <th>flipper_length_mm</th>\n",
       "      <th>body_mass_g</th>\n",
       "      <th>year</th>\n",
       "    </tr>\n",
       "  </thead>\n",
       "  <tbody>\n",
       "    <tr>\n",
       "      <th>count</th>\n",
       "      <td>344.000000</td>\n",
       "      <td>342.000000</td>\n",
       "      <td>342.000000</td>\n",
       "      <td>342.000000</td>\n",
       "      <td>342.000000</td>\n",
       "      <td>344.000000</td>\n",
       "    </tr>\n",
       "    <tr>\n",
       "      <th>mean</th>\n",
       "      <td>172.500000</td>\n",
       "      <td>43.921930</td>\n",
       "      <td>17.151170</td>\n",
       "      <td>200.915205</td>\n",
       "      <td>4201.754386</td>\n",
       "      <td>2008.029070</td>\n",
       "    </tr>\n",
       "    <tr>\n",
       "      <th>std</th>\n",
       "      <td>99.448479</td>\n",
       "      <td>5.459584</td>\n",
       "      <td>1.974793</td>\n",
       "      <td>14.061714</td>\n",
       "      <td>801.954536</td>\n",
       "      <td>0.818356</td>\n",
       "    </tr>\n",
       "    <tr>\n",
       "      <th>min</th>\n",
       "      <td>1.000000</td>\n",
       "      <td>32.100000</td>\n",
       "      <td>13.100000</td>\n",
       "      <td>172.000000</td>\n",
       "      <td>2700.000000</td>\n",
       "      <td>2007.000000</td>\n",
       "    </tr>\n",
       "    <tr>\n",
       "      <th>25%</th>\n",
       "      <td>86.750000</td>\n",
       "      <td>39.225000</td>\n",
       "      <td>15.600000</td>\n",
       "      <td>190.000000</td>\n",
       "      <td>3550.000000</td>\n",
       "      <td>2007.000000</td>\n",
       "    </tr>\n",
       "    <tr>\n",
       "      <th>50%</th>\n",
       "      <td>172.500000</td>\n",
       "      <td>44.450000</td>\n",
       "      <td>17.300000</td>\n",
       "      <td>197.000000</td>\n",
       "      <td>4050.000000</td>\n",
       "      <td>2008.000000</td>\n",
       "    </tr>\n",
       "    <tr>\n",
       "      <th>75%</th>\n",
       "      <td>258.250000</td>\n",
       "      <td>48.500000</td>\n",
       "      <td>18.700000</td>\n",
       "      <td>213.000000</td>\n",
       "      <td>4750.000000</td>\n",
       "      <td>2009.000000</td>\n",
       "    </tr>\n",
       "    <tr>\n",
       "      <th>max</th>\n",
       "      <td>344.000000</td>\n",
       "      <td>59.600000</td>\n",
       "      <td>21.500000</td>\n",
       "      <td>231.000000</td>\n",
       "      <td>6300.000000</td>\n",
       "      <td>2009.000000</td>\n",
       "    </tr>\n",
       "  </tbody>\n",
       "</table>\n",
       "</div>"
      ],
      "text/plain": [
       "            rowid  bill_length_mm  bill_depth_mm  flipper_length_mm  \\\n",
       "count  344.000000      342.000000     342.000000         342.000000   \n",
       "mean   172.500000       43.921930      17.151170         200.915205   \n",
       "std     99.448479        5.459584       1.974793          14.061714   \n",
       "min      1.000000       32.100000      13.100000         172.000000   \n",
       "25%     86.750000       39.225000      15.600000         190.000000   \n",
       "50%    172.500000       44.450000      17.300000         197.000000   \n",
       "75%    258.250000       48.500000      18.700000         213.000000   \n",
       "max    344.000000       59.600000      21.500000         231.000000   \n",
       "\n",
       "       body_mass_g         year  \n",
       "count   342.000000   344.000000  \n",
       "mean   4201.754386  2008.029070  \n",
       "std     801.954536     0.818356  \n",
       "min    2700.000000  2007.000000  \n",
       "25%    3550.000000  2007.000000  \n",
       "50%    4050.000000  2008.000000  \n",
       "75%    4750.000000  2009.000000  \n",
       "max    6300.000000  2009.000000  "
      ]
     },
     "execution_count": 13,
     "metadata": {},
     "output_type": "execute_result"
    }
   ],
   "source": [
    "birds.describe()"
   ]
  },
  {
   "cell_type": "code",
   "execution_count": 14,
   "id": "1754a32d-a3b4-41ef-be3f-faf194867c64",
   "metadata": {},
   "outputs": [
    {
     "data": {
      "text/html": [
       "<div>\n",
       "<style scoped>\n",
       "    .dataframe tbody tr th:only-of-type {\n",
       "        vertical-align: middle;\n",
       "    }\n",
       "\n",
       "    .dataframe tbody tr th {\n",
       "        vertical-align: top;\n",
       "    }\n",
       "\n",
       "    .dataframe thead th {\n",
       "        text-align: right;\n",
       "    }\n",
       "</style>\n",
       "<table border=\"1\" class=\"dataframe\">\n",
       "  <thead>\n",
       "    <tr style=\"text-align: right;\">\n",
       "      <th></th>\n",
       "      <th>count</th>\n",
       "      <th>mean</th>\n",
       "      <th>std</th>\n",
       "      <th>min</th>\n",
       "      <th>25%</th>\n",
       "      <th>50%</th>\n",
       "      <th>75%</th>\n",
       "      <th>max</th>\n",
       "    </tr>\n",
       "  </thead>\n",
       "  <tbody>\n",
       "    <tr>\n",
       "      <th>rowid</th>\n",
       "      <td>344.0</td>\n",
       "      <td>172.500000</td>\n",
       "      <td>99.448479</td>\n",
       "      <td>1.0</td>\n",
       "      <td>86.750</td>\n",
       "      <td>172.50</td>\n",
       "      <td>258.25</td>\n",
       "      <td>344.0</td>\n",
       "    </tr>\n",
       "    <tr>\n",
       "      <th>bill_length_mm</th>\n",
       "      <td>342.0</td>\n",
       "      <td>43.921930</td>\n",
       "      <td>5.459584</td>\n",
       "      <td>32.1</td>\n",
       "      <td>39.225</td>\n",
       "      <td>44.45</td>\n",
       "      <td>48.50</td>\n",
       "      <td>59.6</td>\n",
       "    </tr>\n",
       "    <tr>\n",
       "      <th>bill_depth_mm</th>\n",
       "      <td>342.0</td>\n",
       "      <td>17.151170</td>\n",
       "      <td>1.974793</td>\n",
       "      <td>13.1</td>\n",
       "      <td>15.600</td>\n",
       "      <td>17.30</td>\n",
       "      <td>18.70</td>\n",
       "      <td>21.5</td>\n",
       "    </tr>\n",
       "    <tr>\n",
       "      <th>flipper_length_mm</th>\n",
       "      <td>342.0</td>\n",
       "      <td>200.915205</td>\n",
       "      <td>14.061714</td>\n",
       "      <td>172.0</td>\n",
       "      <td>190.000</td>\n",
       "      <td>197.00</td>\n",
       "      <td>213.00</td>\n",
       "      <td>231.0</td>\n",
       "    </tr>\n",
       "    <tr>\n",
       "      <th>body_mass_g</th>\n",
       "      <td>342.0</td>\n",
       "      <td>4201.754386</td>\n",
       "      <td>801.954536</td>\n",
       "      <td>2700.0</td>\n",
       "      <td>3550.000</td>\n",
       "      <td>4050.00</td>\n",
       "      <td>4750.00</td>\n",
       "      <td>6300.0</td>\n",
       "    </tr>\n",
       "    <tr>\n",
       "      <th>year</th>\n",
       "      <td>344.0</td>\n",
       "      <td>2008.029070</td>\n",
       "      <td>0.818356</td>\n",
       "      <td>2007.0</td>\n",
       "      <td>2007.000</td>\n",
       "      <td>2008.00</td>\n",
       "      <td>2009.00</td>\n",
       "      <td>2009.0</td>\n",
       "    </tr>\n",
       "  </tbody>\n",
       "</table>\n",
       "</div>"
      ],
      "text/plain": [
       "                   count         mean         std     min       25%      50%  \\\n",
       "rowid              344.0   172.500000   99.448479     1.0    86.750   172.50   \n",
       "bill_length_mm     342.0    43.921930    5.459584    32.1    39.225    44.45   \n",
       "bill_depth_mm      342.0    17.151170    1.974793    13.1    15.600    17.30   \n",
       "flipper_length_mm  342.0   200.915205   14.061714   172.0   190.000   197.00   \n",
       "body_mass_g        342.0  4201.754386  801.954536  2700.0  3550.000  4050.00   \n",
       "year               344.0  2008.029070    0.818356  2007.0  2007.000  2008.00   \n",
       "\n",
       "                       75%     max  \n",
       "rowid               258.25   344.0  \n",
       "bill_length_mm       48.50    59.6  \n",
       "bill_depth_mm        18.70    21.5  \n",
       "flipper_length_mm   213.00   231.0  \n",
       "body_mass_g        4750.00  6300.0  \n",
       "year               2009.00  2009.0  "
      ]
     },
     "execution_count": 14,
     "metadata": {},
     "output_type": "execute_result"
    }
   ],
   "source": [
    "birds.describe().T"
   ]
  },
  {
   "cell_type": "markdown",
   "id": "538dd2be-b56d-4098-87cd-56a307e69286",
   "metadata": {},
   "source": [
    "<h1> FILTERING DATA BASED FROM COLUMNS </h1>"
   ]
  },
  {
   "cell_type": "code",
   "execution_count": 15,
   "id": "06d61aea-db62-4b2c-a1e1-3f490a9fc008",
   "metadata": {},
   "outputs": [
    {
     "data": {
      "text/plain": [
       "0      3750.0\n",
       "1      3800.0\n",
       "2      3250.0\n",
       "3         NaN\n",
       "4      3450.0\n",
       "        ...  \n",
       "339    4000.0\n",
       "340    3400.0\n",
       "341    3775.0\n",
       "342    4100.0\n",
       "343    3775.0\n",
       "Name: body_mass_g, Length: 344, dtype: float64"
      ]
     },
     "execution_count": 15,
     "metadata": {},
     "output_type": "execute_result"
    }
   ],
   "source": [
    "birds['body_mass_g']"
   ]
  },
  {
   "cell_type": "code",
   "execution_count": 16,
   "id": "1d0a26c5-fe9a-41af-aa51-74c01a470990",
   "metadata": {},
   "outputs": [
    {
     "data": {
      "text/plain": [
       "0        male\n",
       "1      female\n",
       "2      female\n",
       "3         NaN\n",
       "4      female\n",
       "        ...  \n",
       "339      male\n",
       "340    female\n",
       "341      male\n",
       "342      male\n",
       "343    female\n",
       "Name: sex, Length: 344, dtype: object"
      ]
     },
     "execution_count": 16,
     "metadata": {},
     "output_type": "execute_result"
    }
   ],
   "source": [
    "birds['sex']"
   ]
  },
  {
   "cell_type": "markdown",
   "id": "39d0ecd5-4212-4048-8977-f5967841d104",
   "metadata": {},
   "source": [
    "<h1>HOW TO DEFINE/CREATE YOUR OWN COLUMN</h1>"
   ]
  },
  {
   "cell_type": "code",
   "execution_count": 17,
   "id": "c123336f-f804-4003-8013-563933d5516b",
   "metadata": {},
   "outputs": [],
   "source": [
    "birds['weight'] = np.round(birds['body_mass_g'] / 1000, 1)"
   ]
  },
  {
   "cell_type": "code",
   "execution_count": 18,
   "id": "d93b95c6-36e6-41b0-b74f-86c9d07ea55e",
   "metadata": {},
   "outputs": [
    {
     "data": {
      "text/html": [
       "<div>\n",
       "<style scoped>\n",
       "    .dataframe tbody tr th:only-of-type {\n",
       "        vertical-align: middle;\n",
       "    }\n",
       "\n",
       "    .dataframe tbody tr th {\n",
       "        vertical-align: top;\n",
       "    }\n",
       "\n",
       "    .dataframe thead th {\n",
       "        text-align: right;\n",
       "    }\n",
       "</style>\n",
       "<table border=\"1\" class=\"dataframe\">\n",
       "  <thead>\n",
       "    <tr style=\"text-align: right;\">\n",
       "      <th></th>\n",
       "      <th>rowid</th>\n",
       "      <th>species</th>\n",
       "      <th>island</th>\n",
       "      <th>bill_length_mm</th>\n",
       "      <th>bill_depth_mm</th>\n",
       "      <th>flipper_length_mm</th>\n",
       "      <th>body_mass_g</th>\n",
       "      <th>sex</th>\n",
       "      <th>year</th>\n",
       "      <th>weight</th>\n",
       "    </tr>\n",
       "  </thead>\n",
       "  <tbody>\n",
       "    <tr>\n",
       "      <th>0</th>\n",
       "      <td>1</td>\n",
       "      <td>Adelie</td>\n",
       "      <td>Torgersen</td>\n",
       "      <td>39.1</td>\n",
       "      <td>18.7</td>\n",
       "      <td>181.0</td>\n",
       "      <td>3750.0</td>\n",
       "      <td>male</td>\n",
       "      <td>2007</td>\n",
       "      <td>3.8</td>\n",
       "    </tr>\n",
       "    <tr>\n",
       "      <th>1</th>\n",
       "      <td>2</td>\n",
       "      <td>Adelie</td>\n",
       "      <td>Torgersen</td>\n",
       "      <td>39.5</td>\n",
       "      <td>17.4</td>\n",
       "      <td>186.0</td>\n",
       "      <td>3800.0</td>\n",
       "      <td>female</td>\n",
       "      <td>2007</td>\n",
       "      <td>3.8</td>\n",
       "    </tr>\n",
       "    <tr>\n",
       "      <th>2</th>\n",
       "      <td>3</td>\n",
       "      <td>Adelie</td>\n",
       "      <td>Torgersen</td>\n",
       "      <td>40.3</td>\n",
       "      <td>18.0</td>\n",
       "      <td>195.0</td>\n",
       "      <td>3250.0</td>\n",
       "      <td>female</td>\n",
       "      <td>2007</td>\n",
       "      <td>3.2</td>\n",
       "    </tr>\n",
       "    <tr>\n",
       "      <th>3</th>\n",
       "      <td>4</td>\n",
       "      <td>Adelie</td>\n",
       "      <td>Torgersen</td>\n",
       "      <td>NaN</td>\n",
       "      <td>NaN</td>\n",
       "      <td>NaN</td>\n",
       "      <td>NaN</td>\n",
       "      <td>NaN</td>\n",
       "      <td>2007</td>\n",
       "      <td>NaN</td>\n",
       "    </tr>\n",
       "    <tr>\n",
       "      <th>4</th>\n",
       "      <td>5</td>\n",
       "      <td>Adelie</td>\n",
       "      <td>Torgersen</td>\n",
       "      <td>36.7</td>\n",
       "      <td>19.3</td>\n",
       "      <td>193.0</td>\n",
       "      <td>3450.0</td>\n",
       "      <td>female</td>\n",
       "      <td>2007</td>\n",
       "      <td>3.4</td>\n",
       "    </tr>\n",
       "    <tr>\n",
       "      <th>...</th>\n",
       "      <td>...</td>\n",
       "      <td>...</td>\n",
       "      <td>...</td>\n",
       "      <td>...</td>\n",
       "      <td>...</td>\n",
       "      <td>...</td>\n",
       "      <td>...</td>\n",
       "      <td>...</td>\n",
       "      <td>...</td>\n",
       "      <td>...</td>\n",
       "    </tr>\n",
       "    <tr>\n",
       "      <th>339</th>\n",
       "      <td>340</td>\n",
       "      <td>Chinstrap</td>\n",
       "      <td>Dream</td>\n",
       "      <td>55.8</td>\n",
       "      <td>19.8</td>\n",
       "      <td>207.0</td>\n",
       "      <td>4000.0</td>\n",
       "      <td>male</td>\n",
       "      <td>2009</td>\n",
       "      <td>4.0</td>\n",
       "    </tr>\n",
       "    <tr>\n",
       "      <th>340</th>\n",
       "      <td>341</td>\n",
       "      <td>Chinstrap</td>\n",
       "      <td>Dream</td>\n",
       "      <td>43.5</td>\n",
       "      <td>18.1</td>\n",
       "      <td>202.0</td>\n",
       "      <td>3400.0</td>\n",
       "      <td>female</td>\n",
       "      <td>2009</td>\n",
       "      <td>3.4</td>\n",
       "    </tr>\n",
       "    <tr>\n",
       "      <th>341</th>\n",
       "      <td>342</td>\n",
       "      <td>Chinstrap</td>\n",
       "      <td>Dream</td>\n",
       "      <td>49.6</td>\n",
       "      <td>18.2</td>\n",
       "      <td>193.0</td>\n",
       "      <td>3775.0</td>\n",
       "      <td>male</td>\n",
       "      <td>2009</td>\n",
       "      <td>3.8</td>\n",
       "    </tr>\n",
       "    <tr>\n",
       "      <th>342</th>\n",
       "      <td>343</td>\n",
       "      <td>Chinstrap</td>\n",
       "      <td>Dream</td>\n",
       "      <td>50.8</td>\n",
       "      <td>19.0</td>\n",
       "      <td>210.0</td>\n",
       "      <td>4100.0</td>\n",
       "      <td>male</td>\n",
       "      <td>2009</td>\n",
       "      <td>4.1</td>\n",
       "    </tr>\n",
       "    <tr>\n",
       "      <th>343</th>\n",
       "      <td>344</td>\n",
       "      <td>Chinstrap</td>\n",
       "      <td>Dream</td>\n",
       "      <td>50.2</td>\n",
       "      <td>18.7</td>\n",
       "      <td>198.0</td>\n",
       "      <td>3775.0</td>\n",
       "      <td>female</td>\n",
       "      <td>2009</td>\n",
       "      <td>3.8</td>\n",
       "    </tr>\n",
       "  </tbody>\n",
       "</table>\n",
       "<p>344 rows × 10 columns</p>\n",
       "</div>"
      ],
      "text/plain": [
       "     rowid    species     island  bill_length_mm  bill_depth_mm  \\\n",
       "0        1     Adelie  Torgersen            39.1           18.7   \n",
       "1        2     Adelie  Torgersen            39.5           17.4   \n",
       "2        3     Adelie  Torgersen            40.3           18.0   \n",
       "3        4     Adelie  Torgersen             NaN            NaN   \n",
       "4        5     Adelie  Torgersen            36.7           19.3   \n",
       "..     ...        ...        ...             ...            ...   \n",
       "339    340  Chinstrap      Dream            55.8           19.8   \n",
       "340    341  Chinstrap      Dream            43.5           18.1   \n",
       "341    342  Chinstrap      Dream            49.6           18.2   \n",
       "342    343  Chinstrap      Dream            50.8           19.0   \n",
       "343    344  Chinstrap      Dream            50.2           18.7   \n",
       "\n",
       "     flipper_length_mm  body_mass_g     sex  year  weight  \n",
       "0                181.0       3750.0    male  2007     3.8  \n",
       "1                186.0       3800.0  female  2007     3.8  \n",
       "2                195.0       3250.0  female  2007     3.2  \n",
       "3                  NaN          NaN     NaN  2007     NaN  \n",
       "4                193.0       3450.0  female  2007     3.4  \n",
       "..                 ...          ...     ...   ...     ...  \n",
       "339              207.0       4000.0    male  2009     4.0  \n",
       "340              202.0       3400.0  female  2009     3.4  \n",
       "341              193.0       3775.0    male  2009     3.8  \n",
       "342              210.0       4100.0    male  2009     4.1  \n",
       "343              198.0       3775.0  female  2009     3.8  \n",
       "\n",
       "[344 rows x 10 columns]"
      ]
     },
     "execution_count": 18,
     "metadata": {},
     "output_type": "execute_result"
    }
   ],
   "source": [
    "birds"
   ]
  },
  {
   "cell_type": "code",
   "execution_count": 19,
   "id": "23ec9baa-153a-4d42-ac94-e82d4b84f088",
   "metadata": {},
   "outputs": [
    {
     "data": {
      "text/plain": [
       "rowid                 0\n",
       "species               0\n",
       "island                0\n",
       "bill_length_mm        2\n",
       "bill_depth_mm         2\n",
       "flipper_length_mm     2\n",
       "body_mass_g           2\n",
       "sex                  11\n",
       "year                  0\n",
       "weight                2\n",
       "dtype: int64"
      ]
     },
     "execution_count": 19,
     "metadata": {},
     "output_type": "execute_result"
    }
   ],
   "source": [
    "birds.isnull().sum()"
   ]
  },
  {
   "cell_type": "markdown",
   "id": "4741a613-c6ce-462c-be07-8e92c28bdb70",
   "metadata": {},
   "source": [
    "<h1>WHAT TO DO WITH NULL VALUES</h1>"
   ]
  },
  {
   "cell_type": "markdown",
   "id": "9ca957d2-f96c-45f0-b413-d91cd9ff0428",
   "metadata": {},
   "source": [
    "delete the row\n",
    "\n",
    "fill the empty cells with a value"
   ]
  },
  {
   "cell_type": "code",
   "execution_count": 20,
   "id": "bd8aac71-11e3-492a-90d2-3245db3398f5",
   "metadata": {},
   "outputs": [
    {
     "data": {
      "text/plain": [
       "np.float64(4201.754385964912)"
      ]
     },
     "execution_count": 20,
     "metadata": {},
     "output_type": "execute_result"
    }
   ],
   "source": [
    "birds['body_mass_g'].mean()"
   ]
  },
  {
   "cell_type": "code",
   "execution_count": 21,
   "id": "3dc5b753-342b-4a97-a6c9-126dc89ed0e9",
   "metadata": {},
   "outputs": [
    {
     "data": {
      "text/plain": [
       "0    male\n",
       "Name: sex, dtype: object"
      ]
     },
     "execution_count": 21,
     "metadata": {},
     "output_type": "execute_result"
    }
   ],
   "source": [
    "birds['sex'].mode()"
   ]
  },
  {
   "cell_type": "code",
   "execution_count": 22,
   "id": "adb1fcd5-d593-4ccf-89da-ec3a8d8b7a45",
   "metadata": {},
   "outputs": [],
   "source": [
    "birds['bill_length_mm'] = birds['bill_length_mm'].fillna(birds['bill_length_mm'].mean())"
   ]
  },
  {
   "cell_type": "code",
   "execution_count": 23,
   "id": "e80c617b-e88e-45fb-b9f9-820e33e7b297",
   "metadata": {},
   "outputs": [],
   "source": [
    "birds['body_mass_g'] = birds['body_mass_g'].fillna(birds['body_mass_g'].mean())"
   ]
  },
  {
   "cell_type": "code",
   "execution_count": 24,
   "id": "d1302e8d-5424-4540-8645-88e02fa37b29",
   "metadata": {},
   "outputs": [
    {
     "data": {
      "text/plain": [
       "rowid                 0\n",
       "species               0\n",
       "island                0\n",
       "bill_length_mm        0\n",
       "bill_depth_mm         2\n",
       "flipper_length_mm     2\n",
       "body_mass_g           0\n",
       "sex                  11\n",
       "year                  0\n",
       "weight                2\n",
       "dtype: int64"
      ]
     },
     "execution_count": 24,
     "metadata": {},
     "output_type": "execute_result"
    }
   ],
   "source": [
    "birds.isnull().sum()"
   ]
  },
  {
   "cell_type": "code",
   "execution_count": 25,
   "id": "4b709653-2b58-4f05-8e19-8c901b0311d2",
   "metadata": {},
   "outputs": [
    {
     "data": {
      "text/plain": [
       "0    male\n",
       "Name: sex, dtype: object"
      ]
     },
     "execution_count": 25,
     "metadata": {},
     "output_type": "execute_result"
    }
   ],
   "source": [
    "birds['sex'].mode()"
   ]
  },
  {
   "cell_type": "code",
   "execution_count": 26,
   "id": "daa22a79-07fd-4552-802d-d1dcfe445133",
   "metadata": {},
   "outputs": [],
   "source": [
    "birds['sex'] = birds['sex'].fillna(birds['sex'].mode()[0])"
   ]
  },
  {
   "cell_type": "code",
   "execution_count": 27,
   "id": "3d1c33fe-62ac-4f9e-bb40-2f31b6043dd8",
   "metadata": {},
   "outputs": [
    {
     "data": {
      "text/plain": [
       "rowid                0\n",
       "species              0\n",
       "island               0\n",
       "bill_length_mm       0\n",
       "bill_depth_mm        2\n",
       "flipper_length_mm    2\n",
       "body_mass_g          0\n",
       "sex                  0\n",
       "year                 0\n",
       "weight               2\n",
       "dtype: int64"
      ]
     },
     "execution_count": 27,
     "metadata": {},
     "output_type": "execute_result"
    }
   ],
   "source": [
    "birds.isnull().sum()"
   ]
  },
  {
   "cell_type": "code",
   "execution_count": 28,
   "id": "158b28df-3349-4885-aa9b-4159021ebb72",
   "metadata": {},
   "outputs": [],
   "source": [
    "birds['bill_depth_mm'] = birds['bill_depth_mm'].fillna(birds['bill_depth_mm'].mean())"
   ]
  },
  {
   "cell_type": "code",
   "execution_count": 29,
   "id": "c47191bd-b7cd-47c0-8422-500d91978d9b",
   "metadata": {},
   "outputs": [
    {
     "data": {
      "text/plain": [
       "rowid                0\n",
       "species              0\n",
       "island               0\n",
       "bill_length_mm       0\n",
       "bill_depth_mm        0\n",
       "flipper_length_mm    2\n",
       "body_mass_g          0\n",
       "sex                  0\n",
       "year                 0\n",
       "weight               2\n",
       "dtype: int64"
      ]
     },
     "execution_count": 29,
     "metadata": {},
     "output_type": "execute_result"
    }
   ],
   "source": [
    "birds.isnull().sum()"
   ]
  },
  {
   "cell_type": "code",
   "execution_count": 30,
   "id": "322dbf22-676a-4b9d-91fb-1197441c1583",
   "metadata": {},
   "outputs": [],
   "source": [
    "birds['flipper_length_mm'] = birds['flipper_length_mm'].fillna(birds['flipper_length_mm'].mean())"
   ]
  },
  {
   "cell_type": "code",
   "execution_count": 31,
   "id": "156f445d-ac00-4f00-bae9-ea4147ee8c90",
   "metadata": {},
   "outputs": [
    {
     "data": {
      "text/plain": [
       "rowid                0\n",
       "species              0\n",
       "island               0\n",
       "bill_length_mm       0\n",
       "bill_depth_mm        0\n",
       "flipper_length_mm    0\n",
       "body_mass_g          0\n",
       "sex                  0\n",
       "year                 0\n",
       "weight               2\n",
       "dtype: int64"
      ]
     },
     "execution_count": 31,
     "metadata": {},
     "output_type": "execute_result"
    }
   ],
   "source": [
    "birds.isnull().sum()"
   ]
  },
  {
   "cell_type": "markdown",
   "id": "7f50b86c-9617-46c9-8cd4-32eea73b269a",
   "metadata": {},
   "source": [
    "<h1>COLUMN DATA TYPES</h1>"
   ]
  },
  {
   "cell_type": "code",
   "execution_count": 32,
   "id": "b5d7074e-755a-4b5d-bf82-ee23bb8fef6e",
   "metadata": {},
   "outputs": [
    {
     "name": "stdout",
     "output_type": "stream",
     "text": [
      "<class 'pandas.core.frame.DataFrame'>\n",
      "RangeIndex: 344 entries, 0 to 343\n",
      "Data columns (total 10 columns):\n",
      " #   Column             Non-Null Count  Dtype  \n",
      "---  ------             --------------  -----  \n",
      " 0   rowid              344 non-null    int64  \n",
      " 1   species            344 non-null    object \n",
      " 2   island             344 non-null    object \n",
      " 3   bill_length_mm     344 non-null    float64\n",
      " 4   bill_depth_mm      344 non-null    float64\n",
      " 5   flipper_length_mm  344 non-null    float64\n",
      " 6   body_mass_g        344 non-null    float64\n",
      " 7   sex                344 non-null    object \n",
      " 8   year               344 non-null    int64  \n",
      " 9   weight             342 non-null    float64\n",
      "dtypes: float64(5), int64(2), object(3)\n",
      "memory usage: 27.0+ KB\n"
     ]
    }
   ],
   "source": [
    "birds.info()"
   ]
  },
  {
   "cell_type": "code",
   "execution_count": 33,
   "id": "2ffd2629-b367-4d47-b2e1-f2437e7bca21",
   "metadata": {},
   "outputs": [],
   "source": [
    "birds['year'] = birds['year'].astype('category')"
   ]
  },
  {
   "cell_type": "code",
   "execution_count": 34,
   "id": "3e5bd4f6-9a5c-4cf3-9c81-51874c3c2b10",
   "metadata": {},
   "outputs": [],
   "source": [
    "birds['species'] = birds['species'].astype('category')"
   ]
  },
  {
   "cell_type": "code",
   "execution_count": 35,
   "id": "d2efc7c6-8623-4018-9b3a-e599b61b872d",
   "metadata": {},
   "outputs": [],
   "source": [
    "birds['rowid'] = birds['rowid'].astype('category')"
   ]
  },
  {
   "cell_type": "code",
   "execution_count": 36,
   "id": "d3287527-bb15-43c6-b690-dc2dca75d831",
   "metadata": {},
   "outputs": [],
   "source": [
    "birds['island'] = birds['island'].astype('category')"
   ]
  },
  {
   "cell_type": "code",
   "execution_count": 37,
   "id": "8423cadb-2f58-4eb1-807d-1a56ad1f431d",
   "metadata": {},
   "outputs": [],
   "source": [
    "birds['sex'] = birds['sex'].astype('category')"
   ]
  },
  {
   "cell_type": "code",
   "execution_count": 38,
   "id": "2574a9d2-31be-4758-b942-5c473320001c",
   "metadata": {},
   "outputs": [
    {
     "name": "stdout",
     "output_type": "stream",
     "text": [
      "<class 'pandas.core.frame.DataFrame'>\n",
      "RangeIndex: 344 entries, 0 to 343\n",
      "Data columns (total 10 columns):\n",
      " #   Column             Non-Null Count  Dtype   \n",
      "---  ------             --------------  -----   \n",
      " 0   rowid              344 non-null    category\n",
      " 1   species            344 non-null    category\n",
      " 2   island             344 non-null    category\n",
      " 3   bill_length_mm     344 non-null    float64 \n",
      " 4   bill_depth_mm      344 non-null    float64 \n",
      " 5   flipper_length_mm  344 non-null    float64 \n",
      " 6   body_mass_g        344 non-null    float64 \n",
      " 7   sex                344 non-null    category\n",
      " 8   year               344 non-null    category\n",
      " 9   weight             342 non-null    float64 \n",
      "dtypes: category(5), float64(5)\n",
      "memory usage: 26.9 KB\n"
     ]
    }
   ],
   "source": [
    "birds.info()"
   ]
  },
  {
   "cell_type": "markdown",
   "id": "0e9aa108-1c29-4761-83eb-cf500b1db79f",
   "metadata": {},
   "source": [
    "<h1>ADDITIONAL</h1>"
   ]
  },
  {
   "cell_type": "code",
   "execution_count": 39,
   "id": "7b3d28f2-9d68-4054-a9cc-8efd9e597701",
   "metadata": {},
   "outputs": [
    {
     "data": {
      "text/plain": [
       "rowid                68\n",
       "species              68\n",
       "island               68\n",
       "bill_length_mm       68\n",
       "bill_depth_mm        68\n",
       "flipper_length_mm    68\n",
       "body_mass_g          68\n",
       "sex                  68\n",
       "year                 68\n",
       "weight               68\n",
       "dtype: int64"
      ]
     },
     "execution_count": 39,
     "metadata": {},
     "output_type": "execute_result"
    }
   ],
   "source": [
    "birds[birds['species'] == \"Chinstrap\"].count()"
   ]
  },
  {
   "cell_type": "code",
   "execution_count": 40,
   "id": "353bc614-0e33-4ddc-a2d3-e4af3d8c3c3d",
   "metadata": {},
   "outputs": [
    {
     "data": {
      "text/plain": [
       "rowid                152\n",
       "species              152\n",
       "island               152\n",
       "bill_length_mm       152\n",
       "bill_depth_mm        152\n",
       "flipper_length_mm    152\n",
       "body_mass_g          152\n",
       "sex                  152\n",
       "year                 152\n",
       "weight               151\n",
       "dtype: int64"
      ]
     },
     "execution_count": 40,
     "metadata": {},
     "output_type": "execute_result"
    }
   ],
   "source": [
    "birds[birds['species'] == \"Adelie\"].count()"
   ]
  },
  {
   "cell_type": "markdown",
   "id": "b94db001-da81-49f6-b9a6-1062afeef015",
   "metadata": {},
   "source": [
    "<h1>How many Gentoo Species have weight more than 3kg??</h1>"
   ]
  },
  {
   "cell_type": "code",
   "execution_count": 41,
   "id": "27714134-234f-46fb-b5f4-413b73bd4e78",
   "metadata": {},
   "outputs": [
    {
     "data": {
      "text/plain": [
       "0      False\n",
       "1      False\n",
       "2      False\n",
       "3      False\n",
       "4      False\n",
       "       ...  \n",
       "339    False\n",
       "340    False\n",
       "341    False\n",
       "342    False\n",
       "343    False\n",
       "Name: species, Length: 344, dtype: bool"
      ]
     },
     "execution_count": 41,
     "metadata": {},
     "output_type": "execute_result"
    }
   ],
   "source": [
    "birds['species'] == \"Gentoo\""
   ]
  },
  {
   "cell_type": "code",
   "execution_count": 42,
   "id": "b06c4417-1b59-4593-a03b-864be27e4936",
   "metadata": {},
   "outputs": [
    {
     "data": {
      "text/plain": [
       "0      True\n",
       "1      True\n",
       "2      True\n",
       "3      True\n",
       "4      True\n",
       "       ... \n",
       "339    True\n",
       "340    True\n",
       "341    True\n",
       "342    True\n",
       "343    True\n",
       "Name: body_mass_g, Length: 344, dtype: bool"
      ]
     },
     "execution_count": 42,
     "metadata": {},
     "output_type": "execute_result"
    }
   ],
   "source": [
    "birds['body_mass_g'] > 3000"
   ]
  },
  {
   "cell_type": "markdown",
   "id": "5f34045c-4037-4db9-bb78-6c0e604542c3",
   "metadata": {},
   "source": [
    "<h1>How many Gentoo Species have weight Less tan 3kg??</h1>"
   ]
  },
  {
   "cell_type": "code",
   "execution_count": 43,
   "id": "20577ce8-b906-43fa-b985-02606c695fc8",
   "metadata": {},
   "outputs": [
    {
     "data": {
      "text/plain": [
       "0      False\n",
       "1      False\n",
       "2      False\n",
       "3      False\n",
       "4      False\n",
       "       ...  \n",
       "339    False\n",
       "340    False\n",
       "341    False\n",
       "342    False\n",
       "343    False\n",
       "Name: species, Length: 344, dtype: bool"
      ]
     },
     "execution_count": 43,
     "metadata": {},
     "output_type": "execute_result"
    }
   ],
   "source": [
    "birds['species'] == \"Gentoo\""
   ]
  },
  {
   "cell_type": "code",
   "execution_count": 44,
   "id": "70f81630-7c4c-4539-909a-dd80aae20225",
   "metadata": {},
   "outputs": [
    {
     "data": {
      "text/plain": [
       "0      False\n",
       "1      False\n",
       "2      False\n",
       "3      False\n",
       "4      False\n",
       "       ...  \n",
       "339    False\n",
       "340    False\n",
       "341    False\n",
       "342    False\n",
       "343    False\n",
       "Name: body_mass_g, Length: 344, dtype: bool"
      ]
     },
     "execution_count": 44,
     "metadata": {},
     "output_type": "execute_result"
    }
   ],
   "source": [
    "birds['body_mass_g'] < 3000"
   ]
  },
  {
   "cell_type": "markdown",
   "id": "449d93e2-a927-4359-9873-714358362d2d",
   "metadata": {},
   "source": [
    "<h1>Filtering data based from columns</h1>"
   ]
  },
  {
   "cell_type": "code",
   "execution_count": 45,
   "id": "6402edbd-59e1-4de2-a9d2-295ebbe356fe",
   "metadata": {},
   "outputs": [
    {
     "data": {
      "text/html": [
       "<div>\n",
       "<style scoped>\n",
       "    .dataframe tbody tr th:only-of-type {\n",
       "        vertical-align: middle;\n",
       "    }\n",
       "\n",
       "    .dataframe tbody tr th {\n",
       "        vertical-align: top;\n",
       "    }\n",
       "\n",
       "    .dataframe thead th {\n",
       "        text-align: right;\n",
       "    }\n",
       "</style>\n",
       "<table border=\"1\" class=\"dataframe\">\n",
       "  <thead>\n",
       "    <tr style=\"text-align: right;\">\n",
       "      <th></th>\n",
       "      <th>bill_length_mm</th>\n",
       "      <th>bill_depth_mm</th>\n",
       "      <th>flipper_length_mm</th>\n",
       "      <th>body_mass_g</th>\n",
       "      <th>weight</th>\n",
       "    </tr>\n",
       "  </thead>\n",
       "  <tbody>\n",
       "    <tr>\n",
       "      <th>count</th>\n",
       "      <td>344.000000</td>\n",
       "      <td>344.000000</td>\n",
       "      <td>344.000000</td>\n",
       "      <td>344.000000</td>\n",
       "      <td>342.000000</td>\n",
       "    </tr>\n",
       "    <tr>\n",
       "      <th>mean</th>\n",
       "      <td>43.921930</td>\n",
       "      <td>17.151170</td>\n",
       "      <td>200.915205</td>\n",
       "      <td>4201.754386</td>\n",
       "      <td>4.202047</td>\n",
       "    </tr>\n",
       "    <tr>\n",
       "      <th>std</th>\n",
       "      <td>5.443643</td>\n",
       "      <td>1.969027</td>\n",
       "      <td>14.020657</td>\n",
       "      <td>799.613058</td>\n",
       "      <td>0.803089</td>\n",
       "    </tr>\n",
       "    <tr>\n",
       "      <th>min</th>\n",
       "      <td>32.100000</td>\n",
       "      <td>13.100000</td>\n",
       "      <td>172.000000</td>\n",
       "      <td>2700.000000</td>\n",
       "      <td>2.700000</td>\n",
       "    </tr>\n",
       "    <tr>\n",
       "      <th>25%</th>\n",
       "      <td>39.275000</td>\n",
       "      <td>15.600000</td>\n",
       "      <td>190.000000</td>\n",
       "      <td>3550.000000</td>\n",
       "      <td>3.600000</td>\n",
       "    </tr>\n",
       "    <tr>\n",
       "      <th>50%</th>\n",
       "      <td>44.250000</td>\n",
       "      <td>17.300000</td>\n",
       "      <td>197.000000</td>\n",
       "      <td>4050.000000</td>\n",
       "      <td>4.000000</td>\n",
       "    </tr>\n",
       "    <tr>\n",
       "      <th>75%</th>\n",
       "      <td>48.500000</td>\n",
       "      <td>18.700000</td>\n",
       "      <td>213.000000</td>\n",
       "      <td>4750.000000</td>\n",
       "      <td>4.800000</td>\n",
       "    </tr>\n",
       "    <tr>\n",
       "      <th>max</th>\n",
       "      <td>59.600000</td>\n",
       "      <td>21.500000</td>\n",
       "      <td>231.000000</td>\n",
       "      <td>6300.000000</td>\n",
       "      <td>6.300000</td>\n",
       "    </tr>\n",
       "  </tbody>\n",
       "</table>\n",
       "</div>"
      ],
      "text/plain": [
       "       bill_length_mm  bill_depth_mm  flipper_length_mm  body_mass_g  \\\n",
       "count      344.000000     344.000000         344.000000   344.000000   \n",
       "mean        43.921930      17.151170         200.915205  4201.754386   \n",
       "std          5.443643       1.969027          14.020657   799.613058   \n",
       "min         32.100000      13.100000         172.000000  2700.000000   \n",
       "25%         39.275000      15.600000         190.000000  3550.000000   \n",
       "50%         44.250000      17.300000         197.000000  4050.000000   \n",
       "75%         48.500000      18.700000         213.000000  4750.000000   \n",
       "max         59.600000      21.500000         231.000000  6300.000000   \n",
       "\n",
       "           weight  \n",
       "count  342.000000  \n",
       "mean     4.202047  \n",
       "std      0.803089  \n",
       "min      2.700000  \n",
       "25%      3.600000  \n",
       "50%      4.000000  \n",
       "75%      4.800000  \n",
       "max      6.300000  "
      ]
     },
     "execution_count": 45,
     "metadata": {},
     "output_type": "execute_result"
    }
   ],
   "source": [
    "birds.describe()"
   ]
  },
  {
   "cell_type": "markdown",
   "id": "1f6e2280-0b7d-4525-9404-1a24a9b64c2c",
   "metadata": {},
   "source": [
    "<h1>Create New Columns</h1>"
   ]
  },
  {
   "cell_type": "code",
   "execution_count": 46,
   "id": "4fd6f267-9c05-4e07-a7ab-90164004b057",
   "metadata": {},
   "outputs": [
    {
     "ename": "_IncompleteInputError",
     "evalue": "incomplete input (1023914985.py, line 1)",
     "output_type": "error",
     "traceback": [
      "\u001b[1;36m  Cell \u001b[1;32mIn[46], line 1\u001b[1;36m\u001b[0m\n\u001b[1;33m    birds['weight']=np.round(birds['body_mass_g']\u001b[0m\n\u001b[1;37m                                                 ^\u001b[0m\n\u001b[1;31m_IncompleteInputError\u001b[0m\u001b[1;31m:\u001b[0m incomplete input\n"
     ]
    }
   ],
   "source": [
    "birds['weight']=np.round(birds['body_mass_g']"
   ]
  },
  {
   "cell_type": "markdown",
   "id": "973bc313-6b2c-43e2-89db-6829a19457bc",
   "metadata": {},
   "source": [
    "<h1>CHECKING FOR NULL VALUES</h1>"
   ]
  },
  {
   "cell_type": "code",
   "execution_count": null,
   "id": "ae406bb3-d4b2-4d68-86f4-f38fc9d42dac",
   "metadata": {},
   "outputs": [],
   "source": [
    "birds.isnull()"
   ]
  },
  {
   "cell_type": "code",
   "execution_count": null,
   "id": "e0a4b4fe-50af-4569-b84c-556771c179c5",
   "metadata": {},
   "outputs": [],
   "source": [
    "(birds['island'] == 'Gentoo')"
   ]
  },
  {
   "cell_type": "code",
   "execution_count": null,
   "id": "0ddca69c-27c3-4967-ba8b-96fad362097a",
   "metadata": {},
   "outputs": [],
   "source": [
    "birds[(birds['island'] == 'Gentoo')]"
   ]
  },
  {
   "cell_type": "code",
   "execution_count": null,
   "id": "ef4ed2a1-c59b-4870-be78-3beb6473acb2",
   "metadata": {},
   "outputs": [],
   "source": [
    "birds['wkilo'] = np.round(birds['body_mass_g'] / 1000,1)"
   ]
  },
  {
   "cell_type": "code",
   "execution_count": null,
   "id": "b7f25c61-8a28-466b-bf53-bc0aff882325",
   "metadata": {},
   "outputs": [],
   "source": [
    "birds['wkilo'].mean()"
   ]
  },
  {
   "cell_type": "markdown",
   "id": "550fbaf0-510c-4806-9d34-e20fdba1fc9a",
   "metadata": {},
   "source": [
    "<h1>Does Gentoo exclusively live on just one ISLAND</h1>"
   ]
  },
  {
   "cell_type": "code",
   "execution_count": null,
   "id": "e709c383-4162-4768-a394-93f61582a9aa",
   "metadata": {},
   "outputs": [],
   "source": [
    "gentoo_dream = birds[(birds['species'] == 'Gentoo') & (birds['island'] == 'Dream')]"
   ]
  },
  {
   "cell_type": "code",
   "execution_count": null,
   "id": "fe77e8d6-bde0-4658-b038-4c8dfc7961a6",
   "metadata": {},
   "outputs": [],
   "source": [
    "gentoo_torg = birds[(birds['species'] == 'Gentoo') & (birds['island'] == 'Torgersen')]"
   ]
  },
  {
   "cell_type": "code",
   "execution_count": null,
   "id": "ee5fde72-96ec-4762-99f5-02b72691b785",
   "metadata": {},
   "outputs": [],
   "source": [
    "gentoo_biscoe = birds[(birds['species'] == 'Gentoo') & (birds['island'] == 'Biscoe')]"
   ]
  },
  {
   "cell_type": "code",
   "execution_count": null,
   "id": "e349168d-e062-4a92-bce7-21a2469512ba",
   "metadata": {},
   "outputs": [],
   "source": [
    "gentoo_biscoe"
   ]
  },
  {
   "cell_type": "code",
   "execution_count": null,
   "id": "c3b3ab44-7e7d-42fc-a0fb-929cecb5b3cc",
   "metadata": {},
   "outputs": [],
   "source": [
    "birds['island'].value_counts()"
   ]
  },
  {
   "cell_type": "markdown",
   "id": "49ddd7d5-34a3-4ad2-ade1-1ad1cad5a000",
   "metadata": {},
   "source": [
    "<h1>Insight No.1</h1>\n",
    "<h1>Gentoo LIve exclusively on the Biscoe Island</h1>"
   ]
  },
  {
   "cell_type": "code",
   "execution_count": null,
   "id": "b469c53c-7fa6-4272-82e3-50e5ac9008a6",
   "metadata": {},
   "outputs": [],
   "source": [
    "adelie_biscoe = birds[(birds['species'] == 'Adelie') & (birds['island'] == 'Biscoe')]"
   ]
  },
  {
   "cell_type": "code",
   "execution_count": null,
   "id": "6a046b95-cd2e-4fe4-b612-8974478b0211",
   "metadata": {},
   "outputs": [],
   "source": [
    "adelie_dream = birds[(birds['species'] == 'Adelie') & (birds['island'] == 'Dream')]"
   ]
  },
  {
   "cell_type": "code",
   "execution_count": null,
   "id": "d5c12fe0-b3e0-41a2-a009-53453cf6e848",
   "metadata": {},
   "outputs": [],
   "source": [
    "adelie_torg = birds[(birds['species'] == 'Adelie') & (birds['island'] == 'Torgersen')]"
   ]
  },
  {
   "cell_type": "code",
   "execution_count": null,
   "id": "b59f6c30-0999-4b80-a418-4f56814f73f5",
   "metadata": {},
   "outputs": [],
   "source": [
    "adelie_biscoe"
   ]
  },
  {
   "cell_type": "code",
   "execution_count": null,
   "id": "47bc9acb-d80d-45b6-a1b6-336454eb501a",
   "metadata": {},
   "outputs": [],
   "source": [
    "birds['island'].value_counts()"
   ]
  },
  {
   "cell_type": "markdown",
   "id": "de39c8b4-788e-425e-bc19-fd0b2649c2d1",
   "metadata": {},
   "source": [
    "<h1>Insight No.2</h1>\n",
    "<h1>Adelie </h1>"
   ]
  },
  {
   "cell_type": "code",
   "execution_count": null,
   "id": "b8d7dc06-004d-4600-ab15-60618dc2b7eb",
   "metadata": {},
   "outputs": [],
   "source": [
    "chinstrap_torg = birds[(birds['species'] == 'Chinstarp') & (birds['island'] == 'Torgersen')]"
   ]
  },
  {
   "cell_type": "code",
   "execution_count": null,
   "id": "c007fad7-ba35-4945-abfc-1d1dfc5561ae",
   "metadata": {},
   "outputs": [],
   "source": [
    "chinstrap_dream = birds[(birds['species'] == 'Chinstarp') & (birds['island'] == 'Dream')]"
   ]
  },
  {
   "cell_type": "code",
   "execution_count": null,
   "id": "9643e531-87a5-45d5-bf93-dce26c113bcd",
   "metadata": {},
   "outputs": [],
   "source": [
    "chinstrap_biscoe = birds[(birds['species'] == 'Chinstarp') & (birds['island'] == 'Biscoe')]"
   ]
  },
  {
   "cell_type": "code",
   "execution_count": null,
   "id": "4c2ddc8a-5299-4481-943a-707d27da4f84",
   "metadata": {},
   "outputs": [],
   "source": [
    "chinstrap_biscoe"
   ]
  },
  {
   "cell_type": "markdown",
   "id": "fa3af3ab-8c88-4451-8526-241992974c24",
   "metadata": {},
   "source": [
    "<h1>Insight No.3</h1>\n",
    "<h1>Chinstrap</h1>"
   ]
  },
  {
   "cell_type": "code",
   "execution_count": null,
   "id": "05e38478-6573-4697-aac9-0d86606ebd40",
   "metadata": {},
   "outputs": [],
   "source": [
    "adelie_biscoe_w = np.round(adelie_biscoe['wkilo'].mean(), 1)"
   ]
  },
  {
   "cell_type": "code",
   "execution_count": null,
   "id": "4a485339-2e23-47d6-b055-49873033d68f",
   "metadata": {},
   "outputs": [],
   "source": [
    "adelie_biscoe_w"
   ]
  },
  {
   "cell_type": "code",
   "execution_count": null,
   "id": "47dca8d3-ebaf-4489-8659-c46b1d6c716d",
   "metadata": {},
   "outputs": [],
   "source": [
    "adelie_dream_w = np.round(adelie_dream['wkilo'].mean(), 1)"
   ]
  },
  {
   "cell_type": "code",
   "execution_count": null,
   "id": "19d6a27e-f0d4-4b57-8873-837642c929cb",
   "metadata": {},
   "outputs": [],
   "source": [
    "adelie_dream_w"
   ]
  },
  {
   "cell_type": "code",
   "execution_count": null,
   "id": "5931d8eb-682f-49b5-90c6-ab9b029f3bdb",
   "metadata": {},
   "outputs": [],
   "source": [
    "adelie_torg_w = np.round(adelie_torg['wkilo'].mean(), 1)"
   ]
  },
  {
   "cell_type": "code",
   "execution_count": null,
   "id": "ee6370ec-76bb-4265-934f-9c6536961e8a",
   "metadata": {},
   "outputs": [],
   "source": [
    "adelie_torg_w"
   ]
  },
  {
   "cell_type": "markdown",
   "id": "ea6f54b4-1ba2-4682-b69e-7a8ca99d371b",
   "metadata": {},
   "source": [
    "<h1>Insight No.4</h1>\n",
    "<h1>The ISland does not impact the weight of the adelie Specie</h1>"
   ]
  },
  {
   "cell_type": "code",
   "execution_count": null,
   "id": "e97574fb-4307-4513-9bc8-f4860da77699",
   "metadata": {},
   "outputs": [],
   "source": [
    "gentoo_biscoe_w = np.round(gentoo_biscoe['wkilo'].mean(), 1)"
   ]
  },
  {
   "cell_type": "code",
   "execution_count": null,
   "id": "f845e863-46ad-45f3-b631-34bfdc3e8cef",
   "metadata": {},
   "outputs": [],
   "source": [
    "gentoo_dream_w = np.round(gentoo_dream['wkilo'].mean(), 1)"
   ]
  },
  {
   "cell_type": "code",
   "execution_count": null,
   "id": "ddb4415b-7b2a-4bc3-ad4f-a0726c40bc70",
   "metadata": {},
   "outputs": [],
   "source": [
    "gentoo_torg_w = np.round(gentoo_torg['wkilo'].mean(), 1)"
   ]
  },
  {
   "cell_type": "markdown",
   "id": "cf7890be-c47b-4d8a-a5c1-bdb0ae756b45",
   "metadata": {},
   "source": [
    "<h1>Insight No.5</h1>"
   ]
  },
  {
   "cell_type": "code",
   "execution_count": null,
   "id": "1e3eeff2-0e68-409f-bd27-3bf552d691ff",
   "metadata": {},
   "outputs": [],
   "source": [
    "chinstrap_biscoe_w = np.round(chinstrap_biscoe['wkilo'].mean(), 1)"
   ]
  },
  {
   "cell_type": "code",
   "execution_count": null,
   "id": "2e028131-57f3-420e-98fb-19faa2e58977",
   "metadata": {},
   "outputs": [],
   "source": [
    "chinstrap_dream_w = np.round(chinstrap_dream['wkilo'].mean(), 1)"
   ]
  },
  {
   "cell_type": "code",
   "execution_count": null,
   "id": "af95cb8e-6576-4d51-ba40-a9cf88aa850a",
   "metadata": {},
   "outputs": [],
   "source": [
    "chinstrap_torg_w = np.round(chinstrap_torg['wkilo'].mean(), 1)"
   ]
  },
  {
   "cell_type": "markdown",
   "id": "743d2aef-eb90-47cc-98c9-218b977567dd",
   "metadata": {},
   "source": [
    "<h1>Insight No.6</h1>"
   ]
  },
  {
   "cell_type": "code",
   "execution_count": null,
   "id": "a3b4c7bc-5165-4e2b-b034-07546b9140ff",
   "metadata": {},
   "outputs": [],
   "source": []
  },
  {
   "cell_type": "markdown",
   "id": "3f492e2d-181a-4c54-bc45-6c47991747c5",
   "metadata": {},
   "source": [
    "<h1>Insight No.7</h1>\n",
    "<h1>Heaviest Species is Gentoo 5.1 kilo</h1>"
   ]
  },
  {
   "cell_type": "markdown",
   "id": "3207590e-674b-4154-92f9-2213815dd3ff",
   "metadata": {},
   "source": [
    "<h1>AGGREGRATING DATA</h1>"
   ]
  },
  {
   "cell_type": "code",
   "execution_count": null,
   "id": "d117bddf-3d7b-4e2c-8281-ac22c6d2840f",
   "metadata": {},
   "outputs": [],
   "source": [
    ".groupby()"
   ]
  },
  {
   "cell_type": "code",
   "execution_count": null,
   "id": "2bb4b774-1bf9-4b42-b6a0-a9f4ed78e6eb",
   "metadata": {},
   "outputs": [],
   "source": [
    "birds_island = birds.groupby(['species','island','sex']).size()"
   ]
  },
  {
   "cell_type": "code",
   "execution_count": null,
   "id": "ad93c413-9e18-4952-bf06-4a23b329b5b6",
   "metadata": {},
   "outputs": [],
   "source": [
    "birds_island"
   ]
  },
  {
   "cell_type": "markdown",
   "id": "002fa192-f007-4f88-8ffc-7e562c8db1ed",
   "metadata": {},
   "source": [
    "<h1>HOW TO USE GROUPBY</h1>\n",
    "\n",
    "<ol>\n",
    "    <li>Name the group by reference data frame</li>\n",
    "    <li>Call tha dataframe</li>\n",
    "    <li>.groupby() function</li>\n",
    "    <li>Columns to group</li>\n",
    "    <li>Group by Function</li>\n",
    "</ol>"
   ]
  },
  {
   "cell_type": "code",
   "execution_count": null,
   "id": "996d0a6b-fcbb-4f85-8347-93a982eac628",
   "metadata": {},
   "outputs": [],
   "source": [
    "birds_agg = birds.groupby(['species','island']).size()"
   ]
  },
  {
   "cell_type": "code",
   "execution_count": null,
   "id": "fe261cf5-b5cc-4a6f-bdb8-d24eba22bd53",
   "metadata": {},
   "outputs": [],
   "source": [
    "birds_agg"
   ]
  },
  {
   "cell_type": "code",
   "execution_count": null,
   "id": "6a307963-5000-47d3-98e9-7f713bab79d3",
   "metadata": {},
   "outputs": [],
   "source": [
    "birds_agg2 = np.round(birds.groupby(['species','island'])['weight'].mean(),1)"
   ]
  },
  {
   "cell_type": "code",
   "execution_count": null,
   "id": "1ca279d7-da94-4fb3-9dd6-bf65f644847b",
   "metadata": {},
   "outputs": [],
   "source": [
    "birds_agg2"
   ]
  },
  {
   "cell_type": "code",
   "execution_count": null,
   "id": "64932757-8028-409f-869e-0bb7d9dd0413",
   "metadata": {},
   "outputs": [],
   "source": [
    "birds_agg3 = birds.groupby(['species','island','year','sex']).size()"
   ]
  },
  {
   "cell_type": "code",
   "execution_count": null,
   "id": "ad9cf277-44f6-4640-aca7-b7343f1a611f",
   "metadata": {},
   "outputs": [],
   "source": [
    "birds_agg3.unstack()"
   ]
  },
  {
   "cell_type": "markdown",
   "id": "b88ecad5-1ec2-43ce-acef-86403a120968",
   "metadata": {},
   "source": [
    "<h1>Insight 8</h1>\n",
    "\n",
    "<h2>Highest record in Adelie male are 2007 and 2009 in Dream Island</h2>\n"
   ]
  },
  {
   "cell_type": "code",
   "execution_count": null,
   "id": "404fded3-6924-438f-b66c-de83f8f65be5",
   "metadata": {},
   "outputs": [],
   "source": [
    "birds_agg4 = np.round(birds.groupby(['species','sex'])['weight'].mean())"
   ]
  },
  {
   "cell_type": "code",
   "execution_count": null,
   "id": "80c3eb80-c6ac-41ae-b853-81b4fc0992f7",
   "metadata": {},
   "outputs": [],
   "source": [
    "birds_agg4.unstack()"
   ]
  },
  {
   "cell_type": "markdown",
   "id": "f030af09-246e-41b5-bf17-72bf52ef7536",
   "metadata": {},
   "source": [
    "<h1>Insight 9</h1>\n",
    "<h2>Ave male Adelie is 4.0</h2>"
   ]
  },
  {
   "cell_type": "markdown",
   "id": "443a4dc1-608e-4855-8489-49fe49a329ea",
   "metadata": {},
   "source": [
    "<h1>Insight 10</h1>\n",
    "<h2>Ave male Chinstrap is 4.0</h2>"
   ]
  },
  {
   "cell_type": "markdown",
   "id": "b656be6a-a3e2-469b-880a-da0e554b0201",
   "metadata": {},
   "source": [
    "<h1>Insight 11</h1>\n",
    "<h2>Ave male Gentoo is 5.0</h2>"
   ]
  },
  {
   "cell_type": "code",
   "execution_count": null,
   "id": "bb1eac91-3579-4498-8f9a-9fbb65c1bae5",
   "metadata": {},
   "outputs": [],
   "source": []
  },
  {
   "cell_type": "markdown",
   "id": "00910ca5-8652-490a-9ce1-10390a719cf2",
   "metadata": {},
   "source": [
    "<h1>Correlation</h1>\n",
    "<h3>Correlation using Python</h3>"
   ]
  },
  {
   "cell_type": "markdown",
   "id": "883a1750-82a9-4016-aab5-21e122fa8502",
   "metadata": {},
   "source": [
    "<h1>What is the result of a Correlation</h1>\n",
    "<h3>What is a P Value</h3>"
   ]
  },
  {
   "cell_type": "markdown",
   "id": "934a96c4-6ea7-40dd-8cca-565343275daa",
   "metadata": {},
   "source": [
    "<h3>Requirements for Correlation</h3>\n",
    "<ul>\n",
    "    <li>\n",
    "        Name the correlation value\n",
    "    </li>\n",
    "    <li>\n",
    "        Call the first column\n",
    "    </li>\n",
    "    <li>\n",
    "        Test correlation using the .corr() function\n",
    "    </li>\n",
    "    <li>Call the second column</li>\n",
    "</ul>"
   ]
  },
  {
   "cell_type": "code",
   "execution_count": null,
   "id": "bd05446c-9e1e-48f2-80e2-130230246aef",
   "metadata": {},
   "outputs": [],
   "source": [
    "b_depp_length_cor = birds['bill_length_mm'].corr(birds['bill_depth_mm'])"
   ]
  },
  {
   "cell_type": "code",
   "execution_count": null,
   "id": "489b0e31-e4ec-4b59-816d-34f03bdbbaa0",
   "metadata": {},
   "outputs": [],
   "source": [
    "b_depp_length_cor"
   ]
  },
  {
   "cell_type": "markdown",
   "id": "2b640066-dd9f-4b52-8d49-0e668cba6e1e",
   "metadata": {},
   "source": [
    "<h1>Insight 12</h1>\n",
    "<h2>Bill Length has no Correlation with Bill Depth</h2>"
   ]
  },
  {
   "cell_type": "code",
   "execution_count": 50,
   "id": "cba25258-c689-446e-80d8-27d74fa6af19",
   "metadata": {},
   "outputs": [],
   "source": [
    "b_depp_length_cor1 = birds['flipper_length_mm'].corr(birds['weight'])"
   ]
  },
  {
   "cell_type": "code",
   "execution_count": 51,
   "id": "15d313d9-7966-4298-ac29-859c47e52897",
   "metadata": {},
   "outputs": [
    {
     "data": {
      "text/plain": [
       "np.float64(0.8706550442461823)"
      ]
     },
     "execution_count": 51,
     "metadata": {},
     "output_type": "execute_result"
    }
   ],
   "source": [
    "b_depp_length_cor1"
   ]
  },
  {
   "cell_type": "markdown",
   "id": "a9e98781-8c86-497b-9fd2-1c6387233b40",
   "metadata": {},
   "source": [
    "<h1>Insight 13</h1>\n",
    "<h1>Flipper Length has no Correlation with Body Mass</h1>"
   ]
  },
  {
   "cell_type": "code",
   "execution_count": 47,
   "id": "2830fc39-e92e-4629-bbe4-2030729b3b51",
   "metadata": {},
   "outputs": [],
   "source": [
    "b_depp_length_cor2 = birds['bill_length_mm'].corr(birds['weight'])"
   ]
  },
  {
   "cell_type": "code",
   "execution_count": 48,
   "id": "7a2864a4-15aa-435e-b905-416d411bde81",
   "metadata": {},
   "outputs": [
    {
     "data": {
      "text/plain": [
       "np.float64(0.5931909179206184)"
      ]
     },
     "execution_count": 48,
     "metadata": {},
     "output_type": "execute_result"
    }
   ],
   "source": [
    "b_depp_length_cor2"
   ]
  },
  {
   "cell_type": "markdown",
   "id": "d314213b-295f-40dd-80f2-6f90e776c809",
   "metadata": {},
   "source": [
    "<h1>Insight 14</h1>\n",
    "<h1>Bill Length has no Correlation with Body Mass</h1>"
   ]
  },
  {
   "cell_type": "code",
   "execution_count": null,
   "id": "c186abf2-42b7-40f1-89fe-d6cd5c90cc01",
   "metadata": {},
   "outputs": [],
   "source": [
    "b_depp_length_cor3 = birds['bill_length_mm'].corr(birds['flipper_length_mm'])"
   ]
  },
  {
   "cell_type": "code",
   "execution_count": null,
   "id": "4c9cbd0b-3a8a-47c0-aac0-96f60c1cfedc",
   "metadata": {},
   "outputs": [],
   "source": [
    "b_depp_length_cor3"
   ]
  },
  {
   "cell_type": "markdown",
   "id": "ad474bdc-02fc-4e37-ad0f-fc0d10185771",
   "metadata": {},
   "source": [
    "<h1>Insight 15</h1>\n",
    "<h1>Bill Length has no correlation with Flipper Length</h1>"
   ]
  },
  {
   "cell_type": "code",
   "execution_count": 52,
   "id": "99670eea-ce0b-4843-bcb1-6ccc9c512f75",
   "metadata": {},
   "outputs": [
    {
     "name": "stdout",
     "output_type": "stream",
     "text": [
      "<class 'pandas.core.frame.DataFrame'>\n",
      "RangeIndex: 344 entries, 0 to 343\n",
      "Data columns (total 10 columns):\n",
      " #   Column             Non-Null Count  Dtype   \n",
      "---  ------             --------------  -----   \n",
      " 0   rowid              344 non-null    category\n",
      " 1   species            344 non-null    category\n",
      " 2   island             344 non-null    category\n",
      " 3   bill_length_mm     344 non-null    float64 \n",
      " 4   bill_depth_mm      344 non-null    float64 \n",
      " 5   flipper_length_mm  344 non-null    float64 \n",
      " 6   body_mass_g        344 non-null    float64 \n",
      " 7   sex                344 non-null    category\n",
      " 8   year               344 non-null    category\n",
      " 9   weight             342 non-null    float64 \n",
      "dtypes: category(5), float64(5)\n",
      "memory usage: 26.9 KB\n"
     ]
    }
   ],
   "source": [
    "birds.info()"
   ]
  },
  {
   "cell_type": "markdown",
   "id": "34078934-7b18-4e85-a248-14e5b3d99e7d",
   "metadata": {},
   "source": [
    "<h1>Correlation Between Qualitative and Quantitative</h1>\n",
    "\n",
    "<h3>Sex and Body Mass</h3>"
   ]
  },
  {
   "cell_type": "markdown",
   "id": "2626ae0c-da44-4d0a-bea6-5e6513f5bc16",
   "metadata": {},
   "source": [
    "<h2>Library for ONE WAY ANNOVA -- SCIENCE PYTHON ( scipy )</h2>"
   ]
  },
  {
   "cell_type": "code",
   "execution_count": 53,
   "id": "1b030328-bc36-43af-a61b-06d5dc9606cc",
   "metadata": {},
   "outputs": [
    {
     "name": "stdout",
     "output_type": "stream",
     "text": [
      "Requirement already satisfied: scipy in c:\\users\\lab4-studentpc31\\appdata\\local\\programs\\python\\python313\\lib\\site-packages (1.15.2)\n",
      "Requirement already satisfied: numpy<2.5,>=1.23.5 in c:\\users\\lab4-studentpc31\\appdata\\local\\programs\\python\\python313\\lib\\site-packages (from scipy) (2.2.2)\n",
      "Note: you may need to restart the kernel to use updated packages.\n"
     ]
    },
    {
     "name": "stderr",
     "output_type": "stream",
     "text": [
      "\n",
      "[notice] A new release of pip is available: 24.3.1 -> 25.0.1\n",
      "[notice] To update, run: python.exe -m pip install --upgrade pip\n"
     ]
    }
   ],
   "source": [
    "pip install scipy"
   ]
  },
  {
   "cell_type": "code",
   "execution_count": 58,
   "id": "68e7be35-df87-4e0a-b597-320e37055f3c",
   "metadata": {},
   "outputs": [],
   "source": [
    "from scipy.stats import f_oneway"
   ]
  },
  {
   "cell_type": "markdown",
   "id": "9e4b665f-913e-4b9e-adb8-d1f62a679b10",
   "metadata": {},
   "source": [
    "<h2>requirements for one way annova</h2>\n",
    "<h3>Filter columns and its data</h3>"
   ]
  },
  {
   "cell_type": "code",
   "execution_count": 62,
   "id": "0db8fd4e-22bb-4652-be85-de7c12fec013",
   "metadata": {},
   "outputs": [
    {
     "name": "stdout",
     "output_type": "stream",
     "text": [
      "3.0226600487050246e-15\n"
     ]
    }
   ],
   "source": [
    "birds[birds['sex'] == 'female']['body_mass_g']\n",
    "\n",
    "f_stats, p_value = f_oneway(birds[birds['sex'] == 'male']['body_mass_g'],\n",
    "        birds[birds['sex'] == 'female']['body_mass_g'])\n",
    "print(p_value)"
   ]
  },
  {
   "cell_type": "markdown",
   "id": "81dda35a-cac0-4434-b02c-0703b367ea5d",
   "metadata": {},
   "source": [
    "<h1>Insight 16</h1>\n",
    "<h3>There is a correlation between sex and body mass</h3>"
   ]
  }
 ],
 "metadata": {
  "kernelspec": {
   "display_name": "Python 3 (ipykernel)",
   "language": "python",
   "name": "python3"
  },
  "language_info": {
   "codemirror_mode": {
    "name": "ipython",
    "version": 3
   },
   "file_extension": ".py",
   "mimetype": "text/x-python",
   "name": "python",
   "nbconvert_exporter": "python",
   "pygments_lexer": "ipython3",
   "version": "3.13.1"
  }
 },
 "nbformat": 4,
 "nbformat_minor": 5
}
